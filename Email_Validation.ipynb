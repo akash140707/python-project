{
  "nbformat": 4,
  "nbformat_minor": 0,
  "metadata": {
    "colab": {
      "provenance": []
    },
    "kernelspec": {
      "name": "python3",
      "display_name": "Python 3"
    },
    "language_info": {
      "name": "python"
    }
  },
  "cells": [
    {
      "cell_type": "code",
      "execution_count": 10,
      "metadata": {
        "id": "Uo5C2kcgJ3gT",
        "colab": {
          "base_uri": "https://localhost:8080/"
        },
        "outputId": "85b0e483-0d85-4519-ff52-33917c919c37"
      },
      "outputs": [
        {
          "output_type": "stream",
          "name": "stdout",
          "text": [
            " Enter your email : tiwari1407akash@gmail.com\n",
            "right email\n"
          ]
        }
      ],
      "source": [
        "email=input(\" Enter your email : \")\n",
        "j,k,l=0,0,0\n",
        "if len(email)>=6:\n",
        "  if email[0].isalpha():\n",
        "    if (\"@\" in email) and (email.count(\"@\")==1):\n",
        "      if (email[-3]==\".\") ^ (email[-4]==\".\"):\n",
        "        for i in email:\n",
        "          if i==i.isspace():\n",
        "            j=1\n",
        "          elif i.isalpha():\n",
        "            if i==i.upper():\n",
        "              k=1\n",
        "          elif i.isdigit():\n",
        "            continue\n",
        "          elif i==\"_\" or i==\".\" or i==\"@\":\n",
        "            continue\n",
        "          else:\n",
        "            l=1\n",
        "        if j==1 or k==1 or l==1:\n",
        "          print(\"wrong email 5\")\n",
        "        else:\n",
        "          print(\"right email\")\n",
        "      else:\n",
        "        print(\"wrong email 4\")\n",
        "    else:\n",
        "      print(\"wrong email 3\")\n",
        "  else:\n",
        "    print(\"wrong email 2\")\n",
        "else:\n",
        "  print(\"wrong email 1\")"
      ]
    },
    {
      "cell_type": "code",
      "source": [],
      "metadata": {
        "id": "sWZGLIBEXtXJ"
      },
      "execution_count": 10,
      "outputs": []
    }
  ]
}